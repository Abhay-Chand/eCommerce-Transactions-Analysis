{
 "cells": [
  {
   "cell_type": "code",
   "execution_count": 13,
   "id": "beb4d8c7-f2b5-400b-8e51-6acb20a87d37",
   "metadata": {},
   "outputs": [],
   "source": [
    "import pandas as pd\n",
    "\n",
    "# Load the customer and transaction data\n",
    "customers = pd.read_csv(\"Customers.csv\")\n",
    "transactions = pd.read_csv(\"Transactions.csv\")\n",
    "\n",
    "# Convert `TransactionDate` to datetime\n",
    "transactions['TransactionDate'] = pd.to_datetime(transactions['TransactionDate'])"
   ]
  },
  {
   "cell_type": "code",
   "execution_count": 15,
   "id": "c5c71228-989e-4239-b9f0-a279ba7056a6",
   "metadata": {},
   "outputs": [],
   "source": [
    "# Merge `customers` and `transactions` data on `CustomerID`\n",
    "cust_transactions = pd.merge(customers, transactions, on='CustomerID')"
   ]
  },
  {
   "cell_type": "code",
   "execution_count": 17,
   "id": "1ed0521c-51b6-4a14-b8f9-0a5ae371a42e",
   "metadata": {},
   "outputs": [],
   "source": [
    "# Calculate Recency, Frequency, and Monetary (RFM) features and other relevant metrics\n",
    "rfm_features = cust_transactions.groupby('CustomerID').agg(\n",
    "    N_Transactions=('TransactionID', 'nunique'),\n",
    "    Total_Quantity=('Quantity', 'sum'),\n",
    "    Total_Value=('TotalValue', 'sum'),\n",
    "    Avg_Days_Between_Transactions=('TransactionDate', lambda x: (x.max() - x.min()).days / len(x) if len(x) > 1 else 0),\n",
    "    N_Unique_Products=('ProductID', 'nunique')\n",
    ").reset_index()"
   ]
  },
  {
   "cell_type": "code",
   "execution_count": 19,
   "id": "9d8b936a-c888-4e29-8c11-66cb51dfee9d",
   "metadata": {},
   "outputs": [],
   "source": [
    "from sklearn.metrics.pairwise import cosine_similarity\n",
    "\n",
    "# Calculate cosine similarity\n",
    "similarity = cosine_similarity(rfm_features.drop(columns=['CustomerID']))"
   ]
  },
  {
   "cell_type": "code",
   "execution_count": 20,
   "id": "dda6fcbb-140f-44af-8c2e-122ae32d741a",
   "metadata": {},
   "outputs": [],
   "source": [
    "# Create a DataFrame to store the results\n",
    "lookalike_df = pd.DataFrame(columns=['CustomerID', 'Lookalike1', 'Score1', 'Lookalike2', 'Score2', 'Lookalike3', 'Score3'])\n",
    "\n",
    "# Get top 3 lookalikes for each customer\n",
    "for i in range(len(rfm_features)):\n",
    "    # Get similarity scores for the current customer\n",
    "    similarity_scores = similarity[i]\n",
    "\n",
    "    # Sort by similarity scores in descending order and get indices\n",
    "    sorted_indices = similarity_scores.argsort()[::-1]\n",
    "\n",
    "    # Get top 3 similar customer indices (excluding the customer itself)\n",
    "    top_3_indices = [index for index in sorted_indices if index!= i][:3]\n",
    "\n",
    "    # Get the corresponding CustomerIDs and similarity scores\n",
    "    top_3_customers = rfm_features.iloc[top_3_indices]['CustomerID'].tolist()\n",
    "    top_3_scores = similarity_scores[top_3_indices].tolist()\n",
    "\n",
    "    # Append the results to the DataFrame\n",
    "    lookalike_df.loc[i] = [rfm_features.iloc[i]['CustomerID'], *[item for sublist in [[cust, score] for cust, score in zip(top_3_customers, top_3_scores)] for item in sublist]]"
   ]
  },
  {
   "cell_type": "code",
   "execution_count": 23,
   "id": "338f8af2-81b1-4e0b-9bbc-8cf34788b305",
   "metadata": {},
   "outputs": [
    {
     "name": "stdout",
     "output_type": "stream",
     "text": [
      "| CustomerID   | Lookalike1   | Score1   | Lookalike2   | Score2   | Lookalike3   | Score3   |\n",
      "|:-------------|:-------------|:---------|:-------------|:---------|:-------------|:---------|\n",
      "| C0001        | C0011        | 1        | C0120        | 1        | C0048        | 1        |\n",
      "| C0002        | C0062        | 0.999999 | C0010        | 0.999997 | C0005        | 0.999997 |\n",
      "| C0003        | C0055        | 0.999999 | C0134        | 0.999999 | C0120        | 0.999999 |\n",
      "| C0004        | C0073        | 1        | C0018        | 1        | C0145        | 1        |\n",
      "| C0005        | C0062        | 0.999999 | C0002        | 0.999997 | C0115        | 0.999993 |\n",
      "| C0006        | C0066        | 1        | C0044        | 1        | C0125        | 1        |\n",
      "| C0007        | C0050        | 1        | C0052        | 0.999999 | C0035        | 0.999999 |\n",
      "| C0008        | C0084        | 1        | C0124        | 0.999999 | C0199        | 0.999999 |\n",
      "| C0009        | C0063        | 0.999945 | C0128        | 0.999934 | C0077        | 0.999858 |\n",
      "| C0010        | C0002        | 0.999997 | C0062        | 0.999997 | C0029        | 0.999995 |\n",
      "| C0011        | C0120        | 1        | C0001        | 1        | C0048        | 1        |\n",
      "| C0012        | C0068        | 1        | C0028        | 1        | C0149        | 1        |\n",
      "| C0013        | C0099        | 1        | C0037        | 1        | C0021        | 1        |\n",
      "| C0014        | C0150        | 0.999994 | C0110        | 0.999994 | C0130        | 0.999993 |\n",
      "| C0015        | C0077        | 0.999982 | C0128        | 0.999974 | C0095        | 0.999974 |\n",
      "| C0016        | C0100        | 1        | C0108        | 1        | C0021        | 1        |\n",
      "| C0017        | C0166        | 1        | C0199        | 1        | C0090        | 1        |\n",
      "| C0018        | C0145        | 1        | C0046        | 1        | C0143        | 1        |\n",
      "| C0019        | C0071        | 0.999999 | C0172        | 0.999999 | C0027        | 0.999998 |\n",
      "| C0020        | C0080        | 1        | C0130        | 1        | C0150        | 1        |\n"
     ]
    }
   ],
   "source": [
    "# Print the first 20 rows\n",
    "print(lookalike_df.head(20).to_markdown(index=False, numalign=\"left\", stralign=\"left\"))"
   ]
  },
  {
   "cell_type": "code",
   "execution_count": 25,
   "id": "e7d1f410-c6a9-46ca-ab59-878a6c07c3f9",
   "metadata": {},
   "outputs": [],
   "source": [
    "# Save the lookalike data to a CSV file\n",
    "lookalike_df[['CustomerID', 'Lookalike1', 'Score1']].to_csv(\"Lookalike.csv\", index=False)"
   ]
  },
  {
   "cell_type": "code",
   "execution_count": null,
   "id": "c3b0f08c-0ae2-4397-9ea1-00e95564d2b4",
   "metadata": {},
   "outputs": [],
   "source": []
  }
 ],
 "metadata": {
  "kernelspec": {
   "display_name": "Python 3 (ipykernel)",
   "language": "python",
   "name": "python3"
  },
  "language_info": {
   "codemirror_mode": {
    "name": "ipython",
    "version": 3
   },
   "file_extension": ".py",
   "mimetype": "text/x-python",
   "name": "python",
   "nbconvert_exporter": "python",
   "pygments_lexer": "ipython3",
   "version": "3.12.7"
  }
 },
 "nbformat": 4,
 "nbformat_minor": 5
}
